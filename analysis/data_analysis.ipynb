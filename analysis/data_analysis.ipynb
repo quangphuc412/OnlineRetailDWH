{
 "cells": [
  {
   "cell_type": "markdown",
   "metadata": {},
   "source": [
    "# Online-Retail-Exploratory-Data-Analysis"
   ]
  },
  {
   "cell_type": "code",
   "execution_count": 1,
   "metadata": {},
   "outputs": [],
   "source": [
    "import psycopg2\n",
    "import pandas as pd\n",
    "import matplotlib.pyplot as plt\n",
    "import seaborn as sns"
   ]
  },
  {
   "cell_type": "markdown",
   "metadata": {},
   "source": [
    "### 1. Extract data"
   ]
  },
  {
   "cell_type": "code",
   "execution_count": 2,
   "metadata": {},
   "outputs": [],
   "source": [
    "# Extract data from Postgres DB function\n",
    "def extract_data_from_dwh(sql_query):\n",
    "    # establishing the connection\n",
    "    conn = psycopg2.connect(\n",
    "        database=\"dwh\",\n",
    "        user='postgres',\n",
    "        password='123456',\n",
    "        host='localhost',\n",
    "        port= '5432'\n",
    "    )\n",
    "\n",
    "    # Creating a cursor object using the cursor()\n",
    "    # method\n",
    "    cursor = conn.cursor()\n",
    "    \n",
    "    cursor.execute(sql_query)\n",
    "    # Extract all data from dwh\n",
    "    data = cursor.fetchall()\n",
    "\n",
    "    # Extract the column names\n",
    "    col_names = []\n",
    "    for col_name in cursor.description:\n",
    "        col_names.append(col_name[0])\n",
    "\n",
    "    df = pd.DataFrame(data, columns=col_names)\n",
    "\n",
    "    # Commit your changes in the database\n",
    "    conn.commit()\n",
    "    #Closing the connection\n",
    "    conn.close()\n",
    "    \n",
    "    return df"
   ]
  },
  {
   "cell_type": "code",
   "execution_count": null,
   "metadata": {},
   "outputs": [
    {
     "name": "stdout",
     "output_type": "stream",
     "text": [
      "<class 'pandas.core.frame.DataFrame'>\n",
      "RangeIndex: 387938 entries, 0 to 387937\n",
      "Data columns (total 8 columns):\n",
      " #   Column       Non-Null Count   Dtype  \n",
      "---  ------       --------------   -----  \n",
      " 0   invoice_key  387938 non-null  int64  \n",
      " 1   invoice_id   387938 non-null  object \n",
      " 2   datetime_id  387938 non-null  object \n",
      " 3   product_id   387938 non-null  object \n",
      " 4   customer_id  387938 non-null  int64  \n",
      " 5   quantity     387938 non-null  int64  \n",
      " 6   price        387938 non-null  float64\n",
      " 7   total        387938 non-null  float64\n",
      "dtypes: float64(2), int64(3), object(3)\n",
      "memory usage: 23.7+ MB\n",
      "None\n",
      "   invoice_key invoice_id   datetime_id product_id  customer_id  quantity  \\\n",
      "0            1     536365  201012010826      21730        17850         6   \n",
      "1            2     536365  201012010826      22752        17850         2   \n",
      "2            3     536365  201012010826      71053        17850         6   \n",
      "3            4     536365  201012010826     84029E        17850         6   \n",
      "4            5     536365  201012010826     84029G        17850         6   \n",
      "\n",
      "   price  total  \n",
      "0   4.25  25.50  \n",
      "1   7.65  15.30  \n",
      "2   3.39  20.34  \n",
      "3   3.39  20.34  \n",
      "4   3.39  20.34  \n"
     ]
    }
   ],
   "source": [
    "# Extract Fact table from data warehouse\n",
    "sql_query = '''\n",
    "    SELECT * FROM fact_invoices;\n",
    "'''\n",
    "df_fact_invoices = extract_data_from_dwh(sql_query)\n",
    "print(df_fact_invoices.info())\n",
    "print(df_fact_invoices.head(5))\n"
   ]
  },
  {
   "cell_type": "markdown",
   "metadata": {},
   "source": [
    "##### Detecting Outliers"
   ]
  },
  {
   "cell_type": "code",
   "execution_count": 19,
   "metadata": {},
   "outputs": [],
   "source": [
    "sns.set_style('darkgrid')"
   ]
  },
  {
   "cell_type": "code",
   "execution_count": null,
   "metadata": {},
   "outputs": [
    {
     "data": {
      "text/plain": [
       "<Axes: xlabel='price'>"
      ]
     },
     "execution_count": 20,
     "metadata": {},
     "output_type": "execute_result"
    },
    {
     "data": {
      "image/png": "[encoded data removed]",
      "text/plain": [
       "<Figure size 640x480 with 1 Axes>"
      ]
     },
     "metadata": {},
     "output_type": "display_data"
    }
   ],
   "source": [
    "# Check price data is have < 0 value?\n",
    "sns.boxplot(x = df_fact_invoices['price'])"
   ]
  },
  {
   "cell_type": "code",
   "execution_count": null,
   "metadata": {},
   "outputs": [
    {
     "data": {
      "text/plain": [
       "<Axes: xlabel='quantity'>"
      ]
     },
     "execution_count": 21,
     "metadata": {},
     "output_type": "execute_result"
    },
    {
     "data": {
      "image/png": "[encoded data removed]",
      "text/plain": [
       "<Figure size 640x480 with 1 Axes>"
      ]
     },
     "metadata": {},
     "output_type": "display_data"
    }
   ],
   "source": [
    "# Quantity value\n",
    "sns.boxplot(x = df_fact_invoices['quantity'])"
   ]
  },
  {
   "cell_type": "markdown",
   "metadata": {},
   "source": [
    "### 2. Analyzing Sales Trends Over Time"
   ]
  },
  {
   "cell_type": "markdown",
   "metadata": {},
   "source": [
    "##### 2.1. Monthly Sales Trend"
   ]
  },
  {
   "cell_type": "code",
   "execution_count": 6,
   "metadata": {},
   "outputs": [
    {
     "name": "stdout",
     "output_type": "stream",
     "text": [
      "   year_month  sum_quantity_product_sold\n",
      "0     2010-12                     312265\n",
      "1      2011-1                     349098\n",
      "2      2011-2                     265622\n",
      "3      2011-3                     348503\n",
      "4      2011-4                     292222\n",
      "5      2011-5                     373601\n",
      "6      2011-6                     363699\n",
      "7      2011-7                     369420\n",
      "8      2011-8                     398121\n",
      "9      2011-9                     544897\n",
      "10    2011-10                     593900\n",
      "11    2011-11                     669051\n",
      "12    2011-12                     287413\n"
     ]
    }
   ],
   "source": [
    "sql_query = \"\"\"\n",
    "    SELECT \n",
    "        CONCAT(dd.\"year\", '-', dd.\"month\") AS year_month\n",
    "        , SUM(fi.quantity) AS sum_quantity_product_sold\n",
    "    FROM fact_invoices fi\n",
    "    JOIN dim_date dd \n",
    "        ON dd.datetime_id = fi.datetime_id\n",
    "    GROUP BY \n",
    "        dd.\"year\"\n",
    "        , dd.\"month\"\n",
    "\"\"\"\n",
    "df_product_quantity_by_each_month = extract_data_from_dwh(sql_query)\n",
    "print(df_product_quantity_by_each_month)"
   ]
  },
  {
   "cell_type": "code",
   "execution_count": 8,
   "metadata": {},
   "outputs": [
    {
     "name": "stderr",
     "output_type": "stream",
     "text": [
      "c:\\Users\\Acer\\AppData\\Local\\Programs\\Python\\Python311\\Lib\\site-packages\\seaborn\\_oldcore.py:1119: FutureWarning: use_inf_as_na option is deprecated and will be removed in a future version. Convert inf values to NaN before operating instead.\n",
      "  with pd.option_context('mode.use_inf_as_na', True):\n",
      "c:\\Users\\Acer\\AppData\\Local\\Programs\\Python\\Python311\\Lib\\site-packages\\seaborn\\_oldcore.py:1119: FutureWarning: use_inf_as_na option is deprecated and will be removed in a future version. Convert inf values to NaN before operating instead.\n",
      "  with pd.option_context('mode.use_inf_as_na', True):\n"
     ]
    },
    {
     "data": {
      "image/png": "[encoded data removed]",
      "text/plain": [
       "<Figure size 1200x600 with 1 Axes>"
      ]
     },
     "metadata": {},
     "output_type": "display_data"
    }
   ],
   "source": [
    "plt.figure(figsize=(12, 6))\n",
    "year_month = df_product_quantity_by_each_month['year_month']\n",
    "quantity = df_product_quantity_by_each_month['sum_quantity_product_sold']\n",
    "sns.lineplot(x=year_month, y=quantity, marker='o')\n",
    "plt.xlabel('Year-Month')\n",
    "plt.ylabel('Total Quantity Sold')\n",
    "plt.title('Monthly Sales Trend')\n",
    "plt.show()"
   ]
  },
  {
   "cell_type": "markdown",
   "metadata": {},
   "source": [
    "**Featured Trends**\n",
    "- Steady growth: From January 2011 to November 2011, the number of products sold increased gradually, reaching a peak in November 2011 with 669,051 products.\n",
    "- Lowest month: February 2011 with 265,622 products (possibly due to holidays or seasonal factors).\n",
    "- Decline after the peak: After reaching a peak in November 2011, sales dropped sharply to 287,413 in December 2011 (due to data only up to December 9, 2011).\n",
    "\n",
    "**Key Insight**\n",
    "- September - November 2011 is the peak period, suitable for promotional campaigns.\n",
    "- February 2011 has the lowest sales, need to consider stimulus strategies."
   ]
  },
  {
   "cell_type": "markdown",
   "metadata": {},
   "source": [
    "##### 2.2. Busiest days of the week"
   ]
  },
  {
   "cell_type": "code",
   "execution_count": 32,
   "metadata": {},
   "outputs": [
    {
     "name": "stdout",
     "output_type": "stream",
     "text": [
      "    day_name  sum_quantity_product_sold\n",
      "0     Monday                     769001\n",
      "1    Tuesday                    1007859\n",
      "2  Wednesday                     962417\n",
      "3   Thursday                    1151845\n",
      "4     Friday                     810218\n",
      "5     Sunday                     466472\n"
     ]
    }
   ],
   "source": [
    "sql_query = \"\"\"\n",
    "    SELECT \n",
    "        dd.day_name\n",
    "        , SUM(fi.quantity) AS sum_quantity_product_sold\n",
    "    FROM fact_invoices fi\n",
    "    JOIN dim_date dd \n",
    "        ON dd.datetime_id = fi.datetime_id\n",
    "    GROUP BY dd.day_name\n",
    "\"\"\"\n",
    "df_product_quantity_by_day_of_week = extract_data_from_dwh(sql_query)\n",
    "\n",
    "day_order = ['Monday', 'Tuesday', 'Wednesday', 'Thursday', 'Friday', 'Sunday']\n",
    "\n",
    "df_product_quantity_by_day_of_week['day_name'] = pd.Categorical(df_product_quantity_by_day_of_week['day_name'], categories=day_order, ordered=True)\n",
    "weekly_sales = df_product_quantity_by_day_of_week.sort_values('day_name').reset_index(drop=True)\n",
    "\n",
    "print(weekly_sales)"
   ]
  },
  {
   "cell_type": "code",
   "execution_count": 34,
   "metadata": {},
   "outputs": [
    {
     "name": "stderr",
     "output_type": "stream",
     "text": [
      "c:\\Users\\Acer\\AppData\\Local\\Programs\\Python\\Python311\\Lib\\site-packages\\seaborn\\categorical.py:641: FutureWarning: The default of observed=False is deprecated and will be changed to True in a future version of pandas. Pass observed=False to retain current behavior or observed=True to adopt the future default and silence this warning.\n",
      "  grouped_vals = vals.groupby(grouper)\n"
     ]
    },
    {
     "data": {
      "image/png": "[encoded data removed]",
      "text/plain": [
       "<Figure size 1000x600 with 1 Axes>"
      ]
     },
     "metadata": {},
     "output_type": "display_data"
    }
   ],
   "source": [
    "plt.figure(figsize=(10, 6))\n",
    "sns.barplot(x=weekly_sales['day_name'], y=weekly_sales['sum_quantity_product_sold'], palette='viridis')\n",
    "plt.xlabel('Day of the Week')\n",
    "plt.ylabel('Total Sales Quantity')\n",
    "plt.title('Busiest Days of the Week')\n",
    "plt.show()"
   ]
  },
  {
   "cell_type": "markdown",
   "metadata": {},
   "source": [
    "**Key Insights:**\n",
    "- Busiest Day: Thursday\n",
    "  - Sales Volume: 1,151,845 products sold (Highest)\n",
    "  - Reason: This may be due to mid-week promotions, corporate purchases, or customers preparing for the weekend.\n",
    "\n",
    "- Second Busiest Day: Tuesday\n",
    "  - Sales Volume: 1,007,859 products sold\n",
    "  - Reason: Customers may be catching up on shopping needs early in the week after the weekend.\n",
    "\n",
    "- Slowest Day: Sunday\n",
    "  - Sales Volume: 466,472 products sold (Lowest)\n",
    "  - Reason: Fewer business operations or customer engagement on weekends.\n",
    "\n",
    "**Actionable Insights for Business Strategy:**\n",
    "- Maximize Promotions on Thursdays: Since Thursday has the highest sales, focus on launching major campaigns and exclusive offers on this day.\n",
    "- Early Week Engagement (Tuesday-Wednesday): Utilize email marketing or loyalty incentives to sustain the high purchase volume mid-week.\n",
    "- Boost Weekend Sales: Consider special discounts or free shipping on Sundays to encourage more transactions during the slowest period."
   ]
  },
  {
   "cell_type": "markdown",
   "metadata": {},
   "source": [
    "##### 2.3. Exploring Top-Selling Products and Countries:"
   ]
  },
  {
   "cell_type": "code",
   "execution_count": 36,
   "metadata": {},
   "outputs": [
    {
     "name": "stdout",
     "output_type": "stream",
     "text": [
      "          country  sum_quantity_product_sold\n",
      "0  United Kingdom                    4256740\n",
      "1     Netherlands                     200361\n",
      "2            EIRE                     140275\n",
      "3         Germany                     119261\n",
      "4          France                     111471\n",
      "5       Australia                      84551\n",
      "6          Sweden                      36083\n",
      "7     Switzerland                      29973\n",
      "8           Spain                      29196\n",
      "9           Japan                      26016\n"
     ]
    }
   ],
   "source": [
    "sql_query = \"\"\"\n",
    "    SELECT \n",
    "        dc.country\n",
    "        , SUM(fi.quantity) AS sum_quantity_product_sold\n",
    "    FROM fact_invoices fi\n",
    "    JOIN dim_customer dc \n",
    "        ON dc.customer_id = fi.customer_id\n",
    "    GROUP BY dc.country\n",
    "    ORDER BY SUM(fi.quantity) DESC\n",
    "    LIMIT 10;\n",
    "\"\"\"\n",
    "df_product_quantity_by_country = extract_data_from_dwh(sql_query)\n",
    "print(df_product_quantity_by_country)"
   ]
  },
  {
   "cell_type": "code",
   "execution_count": 37,
   "metadata": {},
   "outputs": [
    {
     "data": {
      "image/png": "[encoded data removed]",
      "text/plain": [
       "<Figure size 1200x600 with 1 Axes>"
      ]
     },
     "metadata": {},
     "output_type": "display_data"
    }
   ],
   "source": [
    "plt.figure(figsize=(12, 6))\n",
    "sns.barplot(x=df_product_quantity_by_country['sum_quantity_product_sold'], y=df_product_quantity_by_country['country'], palette='viridis')\n",
    "plt.xlabel('Total Sales Quantity')\n",
    "plt.ylabel('Country')\n",
    "plt.title('Top Selling Countries')\n",
    "plt.show()"
   ]
  },
  {
   "cell_type": "markdown",
   "metadata": {},
   "source": [
    "**Key Insights:**\n",
    "- Dominant Market: United Kingdom\n",
    "  - Sales Volume: 4,256,740 products (≈ 80% of total sales)\n",
    "  - Insight: The UK is the primary market. Focus on maintaining customer satisfaction and optimizing logistics here.\n",
    "- Secondary Markets: Netherlands, Ireland (EIRE), and Germany\n",
    "  - Combined Sales: 459,897 products (≈ 8.6% of total sales)\n",
    "  - Insight: These countries are key international markets. Consider localized marketing strategies and improving shipping efficiency.\n",
    "- Emerging Markets: France, Australia, and Sweden\n",
    "  - Sales Share: 5.4% combined\n",
    "  - Insight: Opportunity to expand presence. Evaluate regional preferences and offer promotions to boost sales.\n",
    "- Low-Volume Markets: Switzerland, Spain, Japan\n",
    "  - Sales Share: 1.6% combined\n",
    "  - Insight: Though contributing modestly to overall sales, these countries could benefit from targeted campaigns or exclusive products to increase engagement.\n",
    "\n",
    "**Business Recommendations:**\n",
    "- UK Strategy: Continue to prioritize and enhance customer service, warehouse efficiency, and promotional activities.\n",
    "- Expand in Europe: Target high-potential countries like the Netherlands, Germany, and France with region-specific offers.\n",
    "- Growth in Niche Markets: Explore ways to grow in Australia and Sweden through seasonal campaigns or partnerships.\n",
    "- Localized Marketing: Tailor marketing messages and logistics for low-volume but promising regions (Spain, Japan, Switzerland)."
   ]
  },
  {
   "cell_type": "markdown",
   "metadata": {},
   "source": [
    "### 3. RFM Analysis"
   ]
  },
  {
   "cell_type": "code",
   "execution_count": 7,
   "metadata": {},
   "outputs": [
    {
     "name": "stdout",
     "output_type": "stream",
     "text": [
      "   customer_id recency  frequency  monetary  r_score  f_score  m_score  \\\n",
      "0        16583     373          1    233.45        1        1        1   \n",
      "1        12791     373          1    192.60        1        1        1   \n",
      "2        13747     373          1     79.60        1        1        1   \n",
      "3        17908     373          1    243.28        1        1        1   \n",
      "4        14237     372          1    161.00        1        1        1   \n",
      "\n",
      "  rfm_score  \n",
      "0       111  \n",
      "1       111  \n",
      "2       111  \n",
      "3       111  \n",
      "4       111  \n"
     ]
    }
   ],
   "source": [
    "# Get data\n",
    "sql_query = \"\"\"\n",
    "WITH rfm_base AS(\n",
    "\tSELECT \n",
    "\t\tfi.customer_id\n",
    "\t\t, MAX(dd.datetime) AS last_purchase_date\n",
    "\t\t, COUNT(DISTINCT fi.invoice_id) AS frequency\n",
    "\t\t, SUM(fi.total) AS monetary\n",
    "\tFROM fact_invoices fi\n",
    "\tJOIN dim_customer dc ON dc.customer_id = fi.customer_id\n",
    "\tJOIN dim_date dd ON dd.datetime_id = fi.datetime_id \n",
    "\tGROUP BY fi.customer_id\n",
    "), \n",
    "max_date AS(\n",
    "\tSELECT MAX(DISTINCT dd.datetime) AS max_date\n",
    "\tFROM fact_invoices fi\n",
    "\tJOIN dim_date dd ON dd.datetime_id = fi.datetime_id\n",
    "),\n",
    "rfm_calculated AS(\n",
    "\tSELECT\n",
    "\t\t*\n",
    "\t\t, EXTRACT(DAY FROM ((SELECT max_date FROM max_date) - last_purchase_date)::interval) AS recency\n",
    "\t\t, NTILE(5) OVER (ORDER BY EXTRACT (DAY FROM ((SELECT max_date FROM max_date) - last_purchase_date)::interval) DESC) AS r_score\n",
    "\t    , NTILE(5) OVER (ORDER BY frequency) AS f_score\n",
    "\t    , NTILE(5) OVER (ORDER BY monetary) AS m_score\n",
    "\tFROM rfm_base\n",
    "),\n",
    "rfm_segment AS (\n",
    "\tSELECT\n",
    "\t\tcustomer_id\n",
    "\t\t, recency\n",
    "\t\t, frequency\n",
    "\t\t, monetary\n",
    "\t\t, r_score\n",
    "\t\t, f_score\n",
    "\t\t, m_score\n",
    "\t\t, (CAST(r_score AS VARCHAR) || CAST(f_score AS VARCHAR) || CAST(m_score AS VARCHAR)) AS rfm_score\n",
    "\tFROM rfm_calculated\n",
    "\tORDER BY rfm_score\n",
    ")\n",
    "SELECT * FROM rfm_segment\n",
    "\"\"\"\n",
    "df_rfm = extract_data_from_dwh(sql_query)\n",
    "print(df_rfm.head())"
   ]
  },
  {
   "cell_type": "markdown",
   "metadata": {},
   "source": [
    "##### Let’s see the best and the worst customers:"
   ]
  },
  {
   "cell_type": "code",
   "execution_count": 8,
   "metadata": {},
   "outputs": [
    {
     "data": {
      "text/html": [
       "<div>\n",
       "<style scoped>\n",
       "    .dataframe tbody tr th:only-of-type {\n",
       "        vertical-align: middle;\n",
       "    }\n",
       "\n",
       "    .dataframe tbody tr th {\n",
       "        vertical-align: top;\n",
       "    }\n",
       "\n",
       "    .dataframe thead th {\n",
       "        text-align: right;\n",
       "    }\n",
       "</style>\n",
       "<table border=\"1\" class=\"dataframe\">\n",
       "  <thead>\n",
       "    <tr style=\"text-align: right;\">\n",
       "      <th></th>\n",
       "      <th>customer_id</th>\n",
       "      <th>recency</th>\n",
       "      <th>frequency</th>\n",
       "      <th>monetary</th>\n",
       "      <th>r_score</th>\n",
       "      <th>f_score</th>\n",
       "      <th>m_score</th>\n",
       "      <th>rfm_score</th>\n",
       "    </tr>\n",
       "  </thead>\n",
       "  <tbody>\n",
       "    <tr>\n",
       "      <th>3990</th>\n",
       "      <td>16133</td>\n",
       "      <td>3</td>\n",
       "      <td>33</td>\n",
       "      <td>14589.04</td>\n",
       "      <td>5</td>\n",
       "      <td>5</td>\n",
       "      <td>5</td>\n",
       "      <td>555</td>\n",
       "    </tr>\n",
       "    <tr>\n",
       "      <th>3991</th>\n",
       "      <td>17365</td>\n",
       "      <td>12</td>\n",
       "      <td>8</td>\n",
       "      <td>4801.56</td>\n",
       "      <td>5</td>\n",
       "      <td>5</td>\n",
       "      <td>5</td>\n",
       "      <td>555</td>\n",
       "    </tr>\n",
       "    <tr>\n",
       "      <th>3992</th>\n",
       "      <td>17920</td>\n",
       "      <td>3</td>\n",
       "      <td>17</td>\n",
       "      <td>4204.10</td>\n",
       "      <td>5</td>\n",
       "      <td>5</td>\n",
       "      <td>5</td>\n",
       "      <td>555</td>\n",
       "    </tr>\n",
       "    <tr>\n",
       "      <th>3993</th>\n",
       "      <td>18283</td>\n",
       "      <td>3</td>\n",
       "      <td>16</td>\n",
       "      <td>2094.88</td>\n",
       "      <td>5</td>\n",
       "      <td>5</td>\n",
       "      <td>5</td>\n",
       "      <td>555</td>\n",
       "    </tr>\n",
       "    <tr>\n",
       "      <th>3994</th>\n",
       "      <td>16592</td>\n",
       "      <td>3</td>\n",
       "      <td>16</td>\n",
       "      <td>4113.68</td>\n",
       "      <td>5</td>\n",
       "      <td>5</td>\n",
       "      <td>5</td>\n",
       "      <td>555</td>\n",
       "    </tr>\n",
       "  </tbody>\n",
       "</table>\n",
       "</div>"
      ],
      "text/plain": [
       "      customer_id recency  frequency  monetary  r_score  f_score  m_score  \\\n",
       "3990        16133       3         33  14589.04        5        5        5   \n",
       "3991        17365      12          8   4801.56        5        5        5   \n",
       "3992        17920       3         17   4204.10        5        5        5   \n",
       "3993        18283       3         16   2094.88        5        5        5   \n",
       "3994        16592       3         16   4113.68        5        5        5   \n",
       "\n",
       "     rfm_score  \n",
       "3990       555  \n",
       "3991       555  \n",
       "3992       555  \n",
       "3993       555  \n",
       "3994       555  "
      ]
     },
     "execution_count": 8,
     "metadata": {},
     "output_type": "execute_result"
    }
   ],
   "source": [
    "df_rfm[df_rfm['rfm_score'] == '555'].head()"
   ]
  },
  {
   "cell_type": "code",
   "execution_count": 9,
   "metadata": {},
   "outputs": [
    {
     "data": {
      "text/html": [
       "<div>\n",
       "<style scoped>\n",
       "    .dataframe tbody tr th:only-of-type {\n",
       "        vertical-align: middle;\n",
       "    }\n",
       "\n",
       "    .dataframe tbody tr th {\n",
       "        vertical-align: top;\n",
       "    }\n",
       "\n",
       "    .dataframe thead th {\n",
       "        text-align: right;\n",
       "    }\n",
       "</style>\n",
       "<table border=\"1\" class=\"dataframe\">\n",
       "  <thead>\n",
       "    <tr style=\"text-align: right;\">\n",
       "      <th></th>\n",
       "      <th>customer_id</th>\n",
       "      <th>recency</th>\n",
       "      <th>frequency</th>\n",
       "      <th>monetary</th>\n",
       "      <th>r_score</th>\n",
       "      <th>f_score</th>\n",
       "      <th>m_score</th>\n",
       "      <th>rfm_score</th>\n",
       "    </tr>\n",
       "  </thead>\n",
       "  <tbody>\n",
       "    <tr>\n",
       "      <th>0</th>\n",
       "      <td>16583</td>\n",
       "      <td>373</td>\n",
       "      <td>1</td>\n",
       "      <td>233.45</td>\n",
       "      <td>1</td>\n",
       "      <td>1</td>\n",
       "      <td>1</td>\n",
       "      <td>111</td>\n",
       "    </tr>\n",
       "    <tr>\n",
       "      <th>1</th>\n",
       "      <td>12791</td>\n",
       "      <td>373</td>\n",
       "      <td>1</td>\n",
       "      <td>192.60</td>\n",
       "      <td>1</td>\n",
       "      <td>1</td>\n",
       "      <td>1</td>\n",
       "      <td>111</td>\n",
       "    </tr>\n",
       "    <tr>\n",
       "      <th>2</th>\n",
       "      <td>13747</td>\n",
       "      <td>373</td>\n",
       "      <td>1</td>\n",
       "      <td>79.60</td>\n",
       "      <td>1</td>\n",
       "      <td>1</td>\n",
       "      <td>1</td>\n",
       "      <td>111</td>\n",
       "    </tr>\n",
       "    <tr>\n",
       "      <th>3</th>\n",
       "      <td>17908</td>\n",
       "      <td>373</td>\n",
       "      <td>1</td>\n",
       "      <td>243.28</td>\n",
       "      <td>1</td>\n",
       "      <td>1</td>\n",
       "      <td>1</td>\n",
       "      <td>111</td>\n",
       "    </tr>\n",
       "    <tr>\n",
       "      <th>4</th>\n",
       "      <td>14237</td>\n",
       "      <td>372</td>\n",
       "      <td>1</td>\n",
       "      <td>161.00</td>\n",
       "      <td>1</td>\n",
       "      <td>1</td>\n",
       "      <td>1</td>\n",
       "      <td>111</td>\n",
       "    </tr>\n",
       "  </tbody>\n",
       "</table>\n",
       "</div>"
      ],
      "text/plain": [
       "   customer_id recency  frequency  monetary  r_score  f_score  m_score  \\\n",
       "0        16583     373          1    233.45        1        1        1   \n",
       "1        12791     373          1    192.60        1        1        1   \n",
       "2        13747     373          1     79.60        1        1        1   \n",
       "3        17908     373          1    243.28        1        1        1   \n",
       "4        14237     372          1    161.00        1        1        1   \n",
       "\n",
       "  rfm_score  \n",
       "0       111  \n",
       "1       111  \n",
       "2       111  \n",
       "3       111  \n",
       "4       111  "
      ]
     },
     "execution_count": 9,
     "metadata": {},
     "output_type": "execute_result"
    }
   ],
   "source": [
    "df_rfm[df_rfm['rfm_score'] == '111'].head()"
   ]
  },
  {
   "cell_type": "markdown",
   "metadata": {},
   "source": [
    "##### CREATING RFM SEGMENTS"
   ]
  },
  {
   "cell_type": "code",
   "execution_count": 10,
   "metadata": {},
   "outputs": [],
   "source": [
    "seg_map = {\n",
    "    r'[1-2][1-2]': 'hibernating',\n",
    "    r'[1-2][3-4]': 'at_Risk',\n",
    "    r'[1-2]5': 'cant_loose',\n",
    "    r'3[1-2]': 'about_to_sleep',\n",
    "    r'33': 'need_attention',\n",
    "    r'[3-4][4-5]': 'loyal_customers',\n",
    "    r'41': 'promising',\n",
    "    r'51': 'new_customers',\n",
    "    r'[4-5][2-3]': 'potential_loyalists',\n",
    "    r'5[4-5]': 'champions'\n",
    "}"
   ]
  },
  {
   "cell_type": "markdown",
   "metadata": {},
   "source": [
    "As the monetary is a similar value to frequency, it is not considered in scoring. Recency and frequency points are obtained with the following code:\n",
    "- To segment the customers using “Recency” and “Frequency” values."
   ]
  },
  {
   "cell_type": "code",
   "execution_count": 11,
   "metadata": {},
   "outputs": [
    {
     "data": {
      "text/plain": [
       "0    11\n",
       "1    11\n",
       "2    11\n",
       "3    11\n",
       "4    11\n",
       "Name: rfm_segment, dtype: object"
      ]
     },
     "execution_count": 11,
     "metadata": {},
     "output_type": "execute_result"
    }
   ],
   "source": [
    "df_rfm['rfm_segment'] = df_rfm['r_score'].astype(str) + df_rfm['f_score'].astype(str)\n",
    "df_rfm['rfm_segment'].head()"
   ]
  },
  {
   "cell_type": "markdown",
   "metadata": {},
   "source": [
    "Pull the value corresponding to the ranges of the score in the dictionary defined in ‘seg_map’, and add it as a new column named “Segment”"
   ]
  },
  {
   "cell_type": "code",
   "execution_count": 12,
   "metadata": {},
   "outputs": [
    {
     "data": {
      "text/html": [
       "<div>\n",
       "<style scoped>\n",
       "    .dataframe tbody tr th:only-of-type {\n",
       "        vertical-align: middle;\n",
       "    }\n",
       "\n",
       "    .dataframe tbody tr th {\n",
       "        vertical-align: top;\n",
       "    }\n",
       "\n",
       "    .dataframe thead th {\n",
       "        text-align: right;\n",
       "    }\n",
       "</style>\n",
       "<table border=\"1\" class=\"dataframe\">\n",
       "  <thead>\n",
       "    <tr style=\"text-align: right;\">\n",
       "      <th></th>\n",
       "      <th>customer_id</th>\n",
       "      <th>recency</th>\n",
       "      <th>frequency</th>\n",
       "      <th>monetary</th>\n",
       "      <th>r_score</th>\n",
       "      <th>f_score</th>\n",
       "      <th>m_score</th>\n",
       "      <th>rfm_score</th>\n",
       "      <th>rfm_segment</th>\n",
       "    </tr>\n",
       "  </thead>\n",
       "  <tbody>\n",
       "    <tr>\n",
       "      <th>0</th>\n",
       "      <td>16583</td>\n",
       "      <td>373</td>\n",
       "      <td>1</td>\n",
       "      <td>233.45</td>\n",
       "      <td>1</td>\n",
       "      <td>1</td>\n",
       "      <td>1</td>\n",
       "      <td>111</td>\n",
       "      <td>hibernating</td>\n",
       "    </tr>\n",
       "    <tr>\n",
       "      <th>1</th>\n",
       "      <td>12791</td>\n",
       "      <td>373</td>\n",
       "      <td>1</td>\n",
       "      <td>192.60</td>\n",
       "      <td>1</td>\n",
       "      <td>1</td>\n",
       "      <td>1</td>\n",
       "      <td>111</td>\n",
       "      <td>hibernating</td>\n",
       "    </tr>\n",
       "    <tr>\n",
       "      <th>2</th>\n",
       "      <td>13747</td>\n",
       "      <td>373</td>\n",
       "      <td>1</td>\n",
       "      <td>79.60</td>\n",
       "      <td>1</td>\n",
       "      <td>1</td>\n",
       "      <td>1</td>\n",
       "      <td>111</td>\n",
       "      <td>hibernating</td>\n",
       "    </tr>\n",
       "    <tr>\n",
       "      <th>3</th>\n",
       "      <td>17908</td>\n",
       "      <td>373</td>\n",
       "      <td>1</td>\n",
       "      <td>243.28</td>\n",
       "      <td>1</td>\n",
       "      <td>1</td>\n",
       "      <td>1</td>\n",
       "      <td>111</td>\n",
       "      <td>hibernating</td>\n",
       "    </tr>\n",
       "    <tr>\n",
       "      <th>4</th>\n",
       "      <td>14237</td>\n",
       "      <td>372</td>\n",
       "      <td>1</td>\n",
       "      <td>161.00</td>\n",
       "      <td>1</td>\n",
       "      <td>1</td>\n",
       "      <td>1</td>\n",
       "      <td>111</td>\n",
       "      <td>hibernating</td>\n",
       "    </tr>\n",
       "  </tbody>\n",
       "</table>\n",
       "</div>"
      ],
      "text/plain": [
       "   customer_id recency  frequency  monetary  r_score  f_score  m_score  \\\n",
       "0        16583     373          1    233.45        1        1        1   \n",
       "1        12791     373          1    192.60        1        1        1   \n",
       "2        13747     373          1     79.60        1        1        1   \n",
       "3        17908     373          1    243.28        1        1        1   \n",
       "4        14237     372          1    161.00        1        1        1   \n",
       "\n",
       "  rfm_score  rfm_segment  \n",
       "0       111  hibernating  \n",
       "1       111  hibernating  \n",
       "2       111  hibernating  \n",
       "3       111  hibernating  \n",
       "4       111  hibernating  "
      ]
     },
     "execution_count": 12,
     "metadata": {},
     "output_type": "execute_result"
    }
   ],
   "source": [
    "#Creating Segment Variable \n",
    "df_rfm['rfm_segment'] = df_rfm['rfm_segment'].replace(seg_map, regex=True)\n",
    "df_rfm.head()"
   ]
  },
  {
   "cell_type": "markdown",
   "metadata": {},
   "source": [
    "Now our data frame is ready and all the customers are grouped. We can retrieve data of all the groups one by one and save them as new data frames. For example, let us do this for the ‘Need Attention’ segment:"
   ]
  },
  {
   "cell_type": "code",
   "execution_count": 13,
   "metadata": {},
   "outputs": [
    {
     "data": {
      "text/html": [
       "<div>\n",
       "<style scoped>\n",
       "    .dataframe tbody tr th:only-of-type {\n",
       "        vertical-align: middle;\n",
       "    }\n",
       "\n",
       "    .dataframe tbody tr th {\n",
       "        vertical-align: top;\n",
       "    }\n",
       "\n",
       "    .dataframe thead th {\n",
       "        text-align: right;\n",
       "    }\n",
       "</style>\n",
       "<table border=\"1\" class=\"dataframe\">\n",
       "  <thead>\n",
       "    <tr style=\"text-align: right;\">\n",
       "      <th></th>\n",
       "      <th>customer_id</th>\n",
       "      <th>recency</th>\n",
       "      <th>frequency</th>\n",
       "      <th>monetary</th>\n",
       "      <th>r_score</th>\n",
       "      <th>f_score</th>\n",
       "      <th>m_score</th>\n",
       "      <th>rfm_score</th>\n",
       "      <th>rfm_segment</th>\n",
       "    </tr>\n",
       "  </thead>\n",
       "  <tbody>\n",
       "    <tr>\n",
       "      <th>2080</th>\n",
       "      <td>15516</td>\n",
       "      <td>44</td>\n",
       "      <td>3</td>\n",
       "      <td>62.43</td>\n",
       "      <td>3</td>\n",
       "      <td>3</td>\n",
       "      <td>1</td>\n",
       "      <td>331</td>\n",
       "      <td>need_attention</td>\n",
       "    </tr>\n",
       "    <tr>\n",
       "      <th>2081</th>\n",
       "      <td>13666</td>\n",
       "      <td>59</td>\n",
       "      <td>3</td>\n",
       "      <td>84.65</td>\n",
       "      <td>3</td>\n",
       "      <td>3</td>\n",
       "      <td>1</td>\n",
       "      <td>331</td>\n",
       "      <td>need_attention</td>\n",
       "    </tr>\n",
       "    <tr>\n",
       "      <th>2082</th>\n",
       "      <td>17024</td>\n",
       "      <td>44</td>\n",
       "      <td>3</td>\n",
       "      <td>95.85</td>\n",
       "      <td>3</td>\n",
       "      <td>3</td>\n",
       "      <td>1</td>\n",
       "      <td>331</td>\n",
       "      <td>need_attention</td>\n",
       "    </tr>\n",
       "    <tr>\n",
       "      <th>2083</th>\n",
       "      <td>17483</td>\n",
       "      <td>64</td>\n",
       "      <td>3</td>\n",
       "      <td>414.04</td>\n",
       "      <td>3</td>\n",
       "      <td>3</td>\n",
       "      <td>2</td>\n",
       "      <td>332</td>\n",
       "      <td>need_attention</td>\n",
       "    </tr>\n",
       "    <tr>\n",
       "      <th>2084</th>\n",
       "      <td>15121</td>\n",
       "      <td>49</td>\n",
       "      <td>2</td>\n",
       "      <td>457.72</td>\n",
       "      <td>3</td>\n",
       "      <td>3</td>\n",
       "      <td>2</td>\n",
       "      <td>332</td>\n",
       "      <td>need_attention</td>\n",
       "    </tr>\n",
       "  </tbody>\n",
       "</table>\n",
       "</div>"
      ],
      "text/plain": [
       "      customer_id recency  frequency  monetary  r_score  f_score  m_score  \\\n",
       "2080        15516      44          3     62.43        3        3        1   \n",
       "2081        13666      59          3     84.65        3        3        1   \n",
       "2082        17024      44          3     95.85        3        3        1   \n",
       "2083        17483      64          3    414.04        3        3        2   \n",
       "2084        15121      49          2    457.72        3        3        2   \n",
       "\n",
       "     rfm_score     rfm_segment  \n",
       "2080       331  need_attention  \n",
       "2081       331  need_attention  \n",
       "2082       331  need_attention  \n",
       "2083       332  need_attention  \n",
       "2084       332  need_attention  "
      ]
     },
     "execution_count": 13,
     "metadata": {},
     "output_type": "execute_result"
    }
   ],
   "source": [
    "df_rfm[df_rfm['rfm_segment'] == 'need_attention'].head()"
   ]
  },
  {
   "cell_type": "code",
   "execution_count": 14,
   "metadata": {},
   "outputs": [
    {
     "data": {
      "text/html": [
       "<div>\n",
       "<style scoped>\n",
       "    .dataframe tbody tr th:only-of-type {\n",
       "        vertical-align: middle;\n",
       "    }\n",
       "\n",
       "    .dataframe tbody tr th {\n",
       "        vertical-align: top;\n",
       "    }\n",
       "\n",
       "    .dataframe thead tr th {\n",
       "        text-align: left;\n",
       "    }\n",
       "\n",
       "    .dataframe thead tr:last-of-type th {\n",
       "        text-align: right;\n",
       "    }\n",
       "</style>\n",
       "<table border=\"1\" class=\"dataframe\">\n",
       "  <thead>\n",
       "    <tr>\n",
       "      <th></th>\n",
       "      <th colspan=\"2\" halign=\"left\">recency</th>\n",
       "      <th colspan=\"2\" halign=\"left\">frequency</th>\n",
       "      <th colspan=\"2\" halign=\"left\">monetary</th>\n",
       "    </tr>\n",
       "    <tr>\n",
       "      <th></th>\n",
       "      <th>mean</th>\n",
       "      <th>count</th>\n",
       "      <th>mean</th>\n",
       "      <th>count</th>\n",
       "      <th>mean</th>\n",
       "      <th>count</th>\n",
       "    </tr>\n",
       "    <tr>\n",
       "      <th>rfm_segment</th>\n",
       "      <th></th>\n",
       "      <th></th>\n",
       "      <th></th>\n",
       "      <th></th>\n",
       "      <th></th>\n",
       "      <th></th>\n",
       "    </tr>\n",
       "  </thead>\n",
       "  <tbody>\n",
       "    <tr>\n",
       "      <th>about_to_sleep</th>\n",
       "      <td>50.982558</td>\n",
       "      <td>344</td>\n",
       "      <td>1.142442</td>\n",
       "      <td>344</td>\n",
       "      <td>379.333110</td>\n",
       "      <td>344</td>\n",
       "    </tr>\n",
       "    <tr>\n",
       "      <th>at_Risk</th>\n",
       "      <td>148.580645</td>\n",
       "      <td>589</td>\n",
       "      <td>2.879457</td>\n",
       "      <td>589</td>\n",
       "      <td>1215.013280</td>\n",
       "      <td>589</td>\n",
       "    </tr>\n",
       "    <tr>\n",
       "      <th>cant_loose</th>\n",
       "      <td>129.246154</td>\n",
       "      <td>65</td>\n",
       "      <td>8.353846</td>\n",
       "      <td>65</td>\n",
       "      <td>2812.722000</td>\n",
       "      <td>65</td>\n",
       "    </tr>\n",
       "    <tr>\n",
       "      <th>champions</th>\n",
       "      <td>4.904836</td>\n",
       "      <td>641</td>\n",
       "      <td>12.294852</td>\n",
       "      <td>641</td>\n",
       "      <td>6781.629844</td>\n",
       "      <td>641</td>\n",
       "    </tr>\n",
       "    <tr>\n",
       "      <th>hibernating</th>\n",
       "      <td>216.917745</td>\n",
       "      <td>1082</td>\n",
       "      <td>1.107209</td>\n",
       "      <td>1082</td>\n",
       "      <td>416.995334</td>\n",
       "      <td>1082</td>\n",
       "    </tr>\n",
       "    <tr>\n",
       "      <th>loyal_customers</th>\n",
       "      <td>32.48995</td>\n",
       "      <td>796</td>\n",
       "      <td>6.575377</td>\n",
       "      <td>796</td>\n",
       "      <td>2937.323896</td>\n",
       "      <td>796</td>\n",
       "    </tr>\n",
       "    <tr>\n",
       "      <th>need_attention</th>\n",
       "      <td>49.974747</td>\n",
       "      <td>198</td>\n",
       "      <td>2.318182</td>\n",
       "      <td>198</td>\n",
       "      <td>959.654899</td>\n",
       "      <td>198</td>\n",
       "    </tr>\n",
       "    <tr>\n",
       "      <th>new_customers</th>\n",
       "      <td>6.119048</td>\n",
       "      <td>42</td>\n",
       "      <td>1.000000</td>\n",
       "      <td>42</td>\n",
       "      <td>376.133095</td>\n",
       "      <td>42</td>\n",
       "    </tr>\n",
       "    <tr>\n",
       "      <th>potential_loyalists</th>\n",
       "      <td>15.707819</td>\n",
       "      <td>486</td>\n",
       "      <td>2.039095</td>\n",
       "      <td>486</td>\n",
       "      <td>1042.834733</td>\n",
       "      <td>486</td>\n",
       "    </tr>\n",
       "    <tr>\n",
       "      <th>promising</th>\n",
       "      <td>22.473684</td>\n",
       "      <td>95</td>\n",
       "      <td>1.000000</td>\n",
       "      <td>95</td>\n",
       "      <td>352.601263</td>\n",
       "      <td>95</td>\n",
       "    </tr>\n",
       "  </tbody>\n",
       "</table>\n",
       "</div>"
      ],
      "text/plain": [
       "                        recency        frequency           monetary      \n",
       "                           mean count       mean count         mean count\n",
       "rfm_segment                                                              \n",
       "about_to_sleep        50.982558   344   1.142442   344   379.333110   344\n",
       "at_Risk              148.580645   589   2.879457   589  1215.013280   589\n",
       "cant_loose           129.246154    65   8.353846    65  2812.722000    65\n",
       "champions              4.904836   641  12.294852   641  6781.629844   641\n",
       "hibernating          216.917745  1082   1.107209  1082   416.995334  1082\n",
       "loyal_customers        32.48995   796   6.575377   796  2937.323896   796\n",
       "need_attention        49.974747   198   2.318182   198   959.654899   198\n",
       "new_customers          6.119048    42   1.000000    42   376.133095    42\n",
       "potential_loyalists   15.707819   486   2.039095   486  1042.834733   486\n",
       "promising             22.473684    95   1.000000    95   352.601263    95"
      ]
     },
     "execution_count": 14,
     "metadata": {},
     "output_type": "execute_result"
    }
   ],
   "source": [
    "#Descriptive Statistics of RFM Segments \n",
    "df_rfm[['rfm_segment', 'recency', 'frequency', 'monetary']].groupby(\"rfm_segment\").agg(['mean', 'count'])"
   ]
  },
  {
   "cell_type": "code",
   "execution_count": null,
   "metadata": {},
   "outputs": [
    {
     "name": "stderr",
     "output_type": "stream",
     "text": [
      "c:\\Users\\Acer\\AppData\\Local\\Programs\\Python\\Python311\\Lib\\site-packages\\plotly\\express\\_core.py:1985: FutureWarning: When grouping with a length-1 list-like, you will need to pass a length-1 tuple to get_group in a future version of pandas. Pass `(name,)` instead of `name` to silence this warning.\n",
      "  sf: grouped.get_group(s if len(s) > 1 else s[0])\n"
     ]
    },
    {
     "data": {
      "application/vnd.plotly.v1+json": {
       "config": {
        "plotlyServerURL": "https://plot.ly"
       },
       "data": [
        {
         "alignmentgroup": "True",
         "hovertemplate": "color=hibernating<br>x=%{x}<br>y=%{y}<br>text=%{text}<extra></extra>",
         "legendgroup": "hibernating",
         "marker": {
          "color": "#636efa",
          "pattern": {
           "shape": ""
          }
         },
         "name": "hibernating",
         "offsetgroup": "hibernating",
         "orientation": "v",
         "showlegend": true,
         "text": [
          1082
         ],
         "textposition": "auto",
         "type": "bar",
         "x": [
          "hibernating"
         ],
         "xaxis": "x",
         "y": [
          1082
         ],
         "yaxis": "y"
        },
        {
         "alignmentgroup": "True",
         "hovertemplate": "color=loyal_customers<br>x=%{x}<br>y=%{y}<br>text=%{text}<extra></extra>",
         "legendgroup": "loyal_customers",
         "marker": {
          "color": "#EF553B",
          "pattern": {
           "shape": ""
          }
         },
         "name": "loyal_customers",
         "offsetgroup": "loyal_customers",
         "orientation": "v",
         "showlegend": true,
         "text": [
          796
         ],
         "textposition": "auto",
         "type": "bar",
         "x": [
          "loyal_customers"
         ],
         "xaxis": "x",
         "y": [
          796
         ],
         "yaxis": "y"
        },
        {
         "alignmentgroup": "True",
         "hovertemplate": "color=champions<br>x=%{x}<br>y=%{y}<br>text=%{text}<extra></extra>",
         "legendgroup": "champions",
         "marker": {
          "color": "#00cc96",
          "pattern": {
           "shape": ""
          }
         },
         "name": "champions",
         "offsetgroup": "champions",
         "orientation": "v",
         "showlegend": true,
         "text": [
          641
         ],
         "textposition": "auto",
         "type": "bar",
         "x": [
          "champions"
         ],
         "xaxis": "x",
         "y": [
          641
         ],
         "yaxis": "y"
        },
        {
         "alignmentgroup": "True",
         "hovertemplate": "color=at_Risk<br>x=%{x}<br>y=%{y}<br>text=%{text}<extra></extra>",
         "legendgroup": "at_Risk",
         "marker": {
          "color": "#ab63fa",
          "pattern": {
           "shape": ""
          }
         },
         "name": "at_Risk",
         "offsetgroup": "at_Risk",
         "orientation": "v",
         "showlegend": true,
         "text": [
          589
         ],
         "textposition": "auto",
         "type": "bar",
         "x": [
          "at_Risk"
         ],
         "xaxis": "x",
         "y": [
          589
         ],
         "yaxis": "y"
        },
        {
         "alignmentgroup": "True",
         "hovertemplate": "color=potential_loyalists<br>x=%{x}<br>y=%{y}<br>text=%{text}<extra></extra>",
         "legendgroup": "potential_loyalists",
         "marker": {
          "color": "#FFA15A",
          "pattern": {
           "shape": ""
          }
         },
         "name": "potential_loyalists",
         "offsetgroup": "potential_loyalists",
         "orientation": "v",
         "showlegend": true,
         "text": [
          486
         ],
         "textposition": "auto",
         "type": "bar",
         "x": [
          "potential_loyalists"
         ],
         "xaxis": "x",
         "y": [
          486
         ],
         "yaxis": "y"
        },
        {
         "alignmentgroup": "True",
         "hovertemplate": "color=about_to_sleep<br>x=%{x}<br>y=%{y}<br>text=%{text}<extra></extra>",
         "legendgroup": "about_to_sleep",
         "marker": {
          "color": "#19d3f3",
          "pattern": {
           "shape": ""
          }
         },
         "name": "about_to_sleep",
         "offsetgroup": "about_to_sleep",
         "orientation": "v",
         "showlegend": true,
         "text": [
          344
         ],
         "textposition": "auto",
         "type": "bar",
         "x": [
          "about_to_sleep"
         ],
         "xaxis": "x",
         "y": [
          344
         ],
         "yaxis": "y"
        },
        {
         "alignmentgroup": "True",
         "hovertemplate": "color=need_attention<br>x=%{x}<br>y=%{y}<br>text=%{text}<extra></extra>",
         "legendgroup": "need_attention",
         "marker": {
          "color": "#FF6692",
          "pattern": {
           "shape": ""
          }
         },
         "name": "need_attention",
         "offsetgroup": "need_attention",
         "orientation": "v",
         "showlegend": true,
         "text": [
          198
         ],
         "textposition": "auto",
         "type": "bar",
         "x": [
          "need_attention"
         ],
         "xaxis": "x",
         "y": [
          198
         ],
         "yaxis": "y"
        },
        {
         "alignmentgroup": "True",
         "hovertemplate": "color=promising<br>x=%{x}<br>y=%{y}<br>text=%{text}<extra></extra>",
         "legendgroup": "promising",
         "marker": {
          "color": "#B6E880",
          "pattern": {
           "shape": ""
          }
         },
         "name": "promising",
         "offsetgroup": "promising",
         "orientation": "v",
         "showlegend": true,
         "text": [
          95
         ],
         "textposition": "auto",
         "type": "bar",
         "x": [
          "promising"
         ],
         "xaxis": "x",
         "y": [
          95
         ],
         "yaxis": "y"
        },
        {
         "alignmentgroup": "True",
         "hovertemplate": "color=cant_loose<br>x=%{x}<br>y=%{y}<br>text=%{text}<extra></extra>",
         "legendgroup": "cant_loose",
         "marker": {
          "color": "#FF97FF",
          "pattern": {
           "shape": ""
          }
         },
         "name": "cant_loose",
         "offsetgroup": "cant_loose",
         "orientation": "v",
         "showlegend": true,
         "text": [
          65
         ],
         "textposition": "auto",
         "type": "bar",
         "x": [
          "cant_loose"
         ],
         "xaxis": "x",
         "y": [
          65
         ],
         "yaxis": "y"
        },
        {
         "alignmentgroup": "True",
         "hovertemplate": "color=new_customers<br>x=%{x}<br>y=%{y}<br>text=%{text}<extra></extra>",
         "legendgroup": "new_customers",
         "marker": {
          "color": "#FECB52",
          "pattern": {
           "shape": ""
          }
         },
         "name": "new_customers",
         "offsetgroup": "new_customers",
         "orientation": "v",
         "showlegend": true,
         "text": [
          42
         ],
         "textposition": "auto",
         "type": "bar",
         "x": [
          "new_customers"
         ],
         "xaxis": "x",
         "y": [
          42
         ],
         "yaxis": "y"
        }
       ],
       "layout": {
        "barmode": "relative",
        "font": {
         "family": "Arial",
         "size": 15
        },
        "legend": {
         "title": {
          "text": "color"
         },
         "tracegroupgap": 0
        },
        "template": {
         "data": {
          "bar": [
           {
            "error_x": {
             "color": "#2a3f5f"
            },
            "error_y": {
             "color": "#2a3f5f"
            },
            "marker": {
             "line": {
              "color": "#E5ECF6",
              "width": 0.5
             },
             "pattern": {
              "fillmode": "overlay",
              "size": 10,
              "solidity": 0.2
             }
            },
            "type": "bar"
           }
          ],
          "barpolar": [
           {
            "marker": {
             "line": {
              "color": "#E5ECF6",
              "width": 0.5
             },
             "pattern": {
              "fillmode": "overlay",
              "size": 10,
              "solidity": 0.2
             }
            },
            "type": "barpolar"
           }
          ],
          "carpet": [
           {
            "aaxis": {
             "endlinecolor": "#2a3f5f",
             "gridcolor": "white",
             "linecolor": "white",
             "minorgridcolor": "white",
             "startlinecolor": "#2a3f5f"
            },
            "baxis": {
             "endlinecolor": "#2a3f5f",
             "gridcolor": "white",
             "linecolor": "white",
             "minorgridcolor": "white",
             "startlinecolor": "#2a3f5f"
            },
            "type": "carpet"
           }
          ],
          "choropleth": [
           {
            "colorbar": {
             "outlinewidth": 0,
             "ticks": ""
            },
            "type": "choropleth"
           }
          ],
          "contour": [
           {
            "colorbar": {
             "outlinewidth": 0,
             "ticks": ""
            },
            "colorscale": [
             [
              0,
              "#0d0887"
             ],
             [
              0.1111111111111111,
              "#46039f"
             ],
             [
              0.2222222222222222,
              "#7201a8"
             ],
             [
              0.3333333333333333,
              "#9c179e"
             ],
             [
              0.4444444444444444,
              "#bd3786"
             ],
             [
              0.5555555555555556,
              "#d8576b"
             ],
             [
              0.6666666666666666,
              "#ed7953"
             ],
             [
              0.7777777777777778,
              "#fb9f3a"
             ],
             [
              0.8888888888888888,
              "#fdca26"
             ],
             [
              1,
              "#f0f921"
             ]
            ],
            "type": "contour"
           }
          ],
          "contourcarpet": [
           {
            "colorbar": {
             "outlinewidth": 0,
             "ticks": ""
            },
            "type": "contourcarpet"
           }
          ],
          "heatmap": [
           {
            "colorbar": {
             "outlinewidth": 0,
             "ticks": ""
            },
            "colorscale": [
             [
              0,
              "#0d0887"
             ],
             [
              0.1111111111111111,
              "#46039f"
             ],
             [
              0.2222222222222222,
              "#7201a8"
             ],
             [
              0.3333333333333333,
              "#9c179e"
             ],
             [
              0.4444444444444444,
              "#bd3786"
             ],
             [
              0.5555555555555556,
              "#d8576b"
             ],
             [
              0.6666666666666666,
              "#ed7953"
             ],
             [
              0.7777777777777778,
              "#fb9f3a"
             ],
             [
              0.8888888888888888,
              "#fdca26"
             ],
             [
              1,
              "#f0f921"
             ]
            ],
            "type": "heatmap"
           }
          ],
          "heatmapgl": [
           {
            "colorbar": {
             "outlinewidth": 0,
             "ticks": ""
            },
            "colorscale": [
             [
              0,
              "#0d0887"
             ],
             [
              0.1111111111111111,
              "#46039f"
             ],
             [
              0.2222222222222222,
              "#7201a8"
             ],
             [
              0.3333333333333333,
              "#9c179e"
             ],
             [
              0.4444444444444444,
              "#bd3786"
             ],
             [
              0.5555555555555556,
              "#d8576b"
             ],
             [
              0.6666666666666666,
              "#ed7953"
             ],
             [
              0.7777777777777778,
              "#fb9f3a"
             ],
             [
              0.8888888888888888,
              "#fdca26"
             ],
             [
              1,
              "#f0f921"
             ]
            ],
            "type": "heatmapgl"
           }
          ],
          "histogram": [
           {
            "marker": {
             "pattern": {
              "fillmode": "overlay",
              "size": 10,
              "solidity": 0.2
             }
            },
            "type": "histogram"
           }
          ],
          "histogram2d": [
           {
            "colorbar": {
             "outlinewidth": 0,
             "ticks": ""
            },
            "colorscale": [
             [
              0,
              "#0d0887"
             ],
             [
              0.1111111111111111,
              "#46039f"
             ],
             [
              0.2222222222222222,
              "#7201a8"
             ],
             [
              0.3333333333333333,
              "#9c179e"
             ],
             [
              0.4444444444444444,
              "#bd3786"
             ],
             [
              0.5555555555555556,
              "#d8576b"
             ],
             [
              0.6666666666666666,
              "#ed7953"
             ],
             [
              0.7777777777777778,
              "#fb9f3a"
             ],
             [
              0.8888888888888888,
              "#fdca26"
             ],
             [
              1,
              "#f0f921"
             ]
            ],
            "type": "histogram2d"
           }
          ],
          "histogram2dcontour": [
           {
            "colorbar": {
             "outlinewidth": 0,
             "ticks": ""
            },
            "colorscale": [
             [
              0,
              "#0d0887"
             ],
             [
              0.1111111111111111,
              "#46039f"
             ],
             [
              0.2222222222222222,
              "#7201a8"
             ],
             [
              0.3333333333333333,
              "#9c179e"
             ],
             [
              0.4444444444444444,
              "#bd3786"
             ],
             [
              0.5555555555555556,
              "#d8576b"
             ],
             [
              0.6666666666666666,
              "#ed7953"
             ],
             [
              0.7777777777777778,
              "#fb9f3a"
             ],
             [
              0.8888888888888888,
              "#fdca26"
             ],
             [
              1,
              "#f0f921"
             ]
            ],
            "type": "histogram2dcontour"
           }
          ],
          "mesh3d": [
           {
            "colorbar": {
             "outlinewidth": 0,
             "ticks": ""
            },
            "type": "mesh3d"
           }
          ],
          "parcoords": [
           {
            "line": {
             "colorbar": {
              "outlinewidth": 0,
              "ticks": ""
             }
            },
            "type": "parcoords"
           }
          ],
          "pie": [
           {
            "automargin": true,
            "type": "pie"
           }
          ],
          "scatter": [
           {
            "fillpattern": {
             "fillmode": "overlay",
             "size": 10,
             "solidity": 0.2
            },
            "type": "scatter"
           }
          ],
          "scatter3d": [
           {
            "line": {
             "colorbar": {
              "outlinewidth": 0,
              "ticks": ""
             }
            },
            "marker": {
             "colorbar": {
              "outlinewidth": 0,
              "ticks": ""
             }
            },
            "type": "scatter3d"
           }
          ],
          "scattercarpet": [
           {
            "marker": {
             "colorbar": {
              "outlinewidth": 0,
              "ticks": ""
             }
            },
            "type": "scattercarpet"
           }
          ],
          "scattergeo": [
           {
            "marker": {
             "colorbar": {
              "outlinewidth": 0,
              "ticks": ""
             }
            },
            "type": "scattergeo"
           }
          ],
          "scattergl": [
           {
            "marker": {
             "colorbar": {
              "outlinewidth": 0,
              "ticks": ""
             }
            },
            "type": "scattergl"
           }
          ],
          "scattermapbox": [
           {
            "marker": {
             "colorbar": {
              "outlinewidth": 0,
              "ticks": ""
             }
            },
            "type": "scattermapbox"
           }
          ],
          "scatterpolar": [
           {
            "marker": {
             "colorbar": {
              "outlinewidth": 0,
              "ticks": ""
             }
            },
            "type": "scatterpolar"
           }
          ],
          "scatterpolargl": [
           {
            "marker": {
             "colorbar": {
              "outlinewidth": 0,
              "ticks": ""
             }
            },
            "type": "scatterpolargl"
           }
          ],
          "scatterternary": [
           {
            "marker": {
             "colorbar": {
              "outlinewidth": 0,
              "ticks": ""
             }
            },
            "type": "scatterternary"
           }
          ],
          "surface": [
           {
            "colorbar": {
             "outlinewidth": 0,
             "ticks": ""
            },
            "colorscale": [
             [
              0,
              "#0d0887"
             ],
             [
              0.1111111111111111,
              "#46039f"
             ],
             [
              0.2222222222222222,
              "#7201a8"
             ],
             [
              0.3333333333333333,
              "#9c179e"
             ],
             [
              0.4444444444444444,
              "#bd3786"
             ],
             [
              0.5555555555555556,
              "#d8576b"
             ],
             [
              0.6666666666666666,
              "#ed7953"
             ],
             [
              0.7777777777777778,
              "#fb9f3a"
             ],
             [
              0.8888888888888888,
              "#fdca26"
             ],
             [
              1,
              "#f0f921"
             ]
            ],
            "type": "surface"
           }
          ],
          "table": [
           {
            "cells": {
             "fill": {
              "color": "#EBF0F8"
             },
             "line": {
              "color": "white"
             }
            },
            "header": {
             "fill": {
              "color": "#C8D4E3"
             },
             "line": {
              "color": "white"
             }
            },
            "type": "table"
           }
          ]
         },
         "layout": {
          "annotationdefaults": {
           "arrowcolor": "#2a3f5f",
           "arrowhead": 0,
           "arrowwidth": 1
          },
          "autotypenumbers": "strict",
          "coloraxis": {
           "colorbar": {
            "outlinewidth": 0,
            "ticks": ""
           }
          },
          "colorscale": {
           "diverging": [
            [
             0,
             "#8e0152"
            ],
            [
             0.1,
             "#c51b7d"
            ],
            [
             0.2,
             "#de77ae"
            ],
            [
             0.3,
             "#f1b6da"
            ],
            [
             0.4,
             "#fde0ef"
            ],
            [
             0.5,
             "#f7f7f7"
            ],
            [
             0.6,
             "#e6f5d0"
            ],
            [
             0.7,
             "#b8e186"
            ],
            [
             0.8,
             "#7fbc41"
            ],
            [
             0.9,
             "#4d9221"
            ],
            [
             1,
             "#276419"
            ]
           ],
           "sequential": [
            [
             0,
             "#0d0887"
            ],
            [
             0.1111111111111111,
             "#46039f"
            ],
            [
             0.2222222222222222,
             "#7201a8"
            ],
            [
             0.3333333333333333,
             "#9c179e"
            ],
            [
             0.4444444444444444,
             "#bd3786"
            ],
            [
             0.5555555555555556,
             "#d8576b"
            ],
            [
             0.6666666666666666,
             "#ed7953"
            ],
            [
             0.7777777777777778,
             "#fb9f3a"
            ],
            [
             0.8888888888888888,
             "#fdca26"
            ],
            [
             1,
             "#f0f921"
            ]
           ],
           "sequentialminus": [
            [
             0,
             "#0d0887"
            ],
            [
             0.1111111111111111,
             "#46039f"
            ],
            [
             0.2222222222222222,
             "#7201a8"
            ],
            [
             0.3333333333333333,
             "#9c179e"
            ],
            [
             0.4444444444444444,
             "#bd3786"
            ],
            [
             0.5555555555555556,
             "#d8576b"
            ],
            [
             0.6666666666666666,
             "#ed7953"
            ],
            [
             0.7777777777777778,
             "#fb9f3a"
            ],
            [
             0.8888888888888888,
             "#fdca26"
            ],
            [
             1,
             "#f0f921"
            ]
           ]
          },
          "colorway": [
           "#636efa",
           "#EF553B",
           "#00cc96",
           "#ab63fa",
           "#FFA15A",
           "#19d3f3",
           "#FF6692",
           "#B6E880",
           "#FF97FF",
           "#FECB52"
          ],
          "font": {
           "color": "#2a3f5f"
          },
          "geo": {
           "bgcolor": "white",
           "lakecolor": "white",
           "landcolor": "#E5ECF6",
           "showlakes": true,
           "showland": true,
           "subunitcolor": "white"
          },
          "hoverlabel": {
           "align": "left"
          },
          "hovermode": "closest",
          "mapbox": {
           "style": "light"
          },
          "paper_bgcolor": "white",
          "plot_bgcolor": "#E5ECF6",
          "polar": {
           "angularaxis": {
            "gridcolor": "white",
            "linecolor": "white",
            "ticks": ""
           },
           "bgcolor": "#E5ECF6",
           "radialaxis": {
            "gridcolor": "white",
            "linecolor": "white",
            "ticks": ""
           }
          },
          "scene": {
           "xaxis": {
            "backgroundcolor": "#E5ECF6",
            "gridcolor": "white",
            "gridwidth": 2,
            "linecolor": "white",
            "showbackground": true,
            "ticks": "",
            "zerolinecolor": "white"
           },
           "yaxis": {
            "backgroundcolor": "#E5ECF6",
            "gridcolor": "white",
            "gridwidth": 2,
            "linecolor": "white",
            "showbackground": true,
            "ticks": "",
            "zerolinecolor": "white"
           },
           "zaxis": {
            "backgroundcolor": "#E5ECF6",
            "gridcolor": "white",
            "gridwidth": 2,
            "linecolor": "white",
            "showbackground": true,
            "ticks": "",
            "zerolinecolor": "white"
           }
          },
          "shapedefaults": {
           "line": {
            "color": "#2a3f5f"
           }
          },
          "ternary": {
           "aaxis": {
            "gridcolor": "white",
            "linecolor": "white",
            "ticks": ""
           },
           "baxis": {
            "gridcolor": "white",
            "linecolor": "white",
            "ticks": ""
           },
           "bgcolor": "#E5ECF6",
           "caxis": {
            "gridcolor": "white",
            "linecolor": "white",
            "ticks": ""
           }
          },
          "title": {
           "x": 0.05
          },
          "xaxis": {
           "automargin": true,
           "gridcolor": "white",
           "linecolor": "white",
           "ticks": "",
           "title": {
            "standoff": 15
           },
           "zerolinecolor": "white",
           "zerolinewidth": 2
          },
          "yaxis": {
           "automargin": true,
           "gridcolor": "white",
           "linecolor": "white",
           "ticks": "",
           "title": {
            "standoff": 15
           },
           "zerolinecolor": "white",
           "zerolinewidth": 2
          }
         }
        },
        "title": {
         "font": {
          "family": "Arial",
          "size": 20
         },
         "text": "RFM Segments"
        },
        "xaxis": {
         "anchor": "y",
         "domain": [
          0,
          1
         ],
         "title": {
          "text": "Segment"
         }
        },
        "yaxis": {
         "anchor": "x",
         "domain": [
          0,
          1
         ],
         "title": {
          "text": "Count"
         }
        }
       }
      }
     },
     "metadata": {},
     "output_type": "display_data"
    }
   ],
   "source": [
    "import plotly.express as px\n",
    "#Top 10 most preferred products\n",
    "segments = df_rfm['rfm_segment'].value_counts()\n",
    "\n",
    "fig = px.bar(\n",
    "    x = segments.index,\n",
    "    y = segments.values,\n",
    "    color = segments.index,\n",
    "    text = segments.values,\n",
    "    title = \"RFM Segments\"\n",
    ")\n",
    "fig.update_layout(\n",
    "    xaxis_title=\"Segment\",\n",
    "    yaxis_title=\"Count\",\n",
    "    font=dict(size=15, family=\"Arial\"),\n",
    "    title_font=dict(size=20, family=\"Arial\")\n",
    ")\n",
    "fig.show()"
   ]
  },
  {
   "cell_type": "code",
   "execution_count": 16,
   "metadata": {},
   "outputs": [
    {
     "data": {
      "image/png": "[encoded data removed]",
      "text/plain": [
       "<Figure size 1000x800 with 1 Axes>"
      ]
     },
     "metadata": {},
     "output_type": "display_data"
    }
   ],
   "source": [
    "plt.figure(figsize = (10, 8), )\n",
    "explode = (0.1, 0, 0, 0, 0, 0, 0, 0, 0, 0)\n",
    "\n",
    "segments.plot(\n",
    "    kind = 'pie',\n",
    "    color=segments.index,\n",
    "    explode = explode,\n",
    "    autopct = '%1.2f%%')\n",
    "plt.axis('equal')\n",
    "plt.legend(labels = segments.index, loc = \"best\")\n",
    "plt.show()"
   ]
  },
  {
   "cell_type": "markdown",
   "metadata": {},
   "source": [
    "### Report\n",
    "##### To exemplify, we can choose the 3 groups to suggest actions for them.\n",
    "\n",
    "1. **Can’t Lose Segment** [R(1–2), F(4–5)]:\n",
    "- There are **65** customers in this group.\n",
    "- They have not been shopping for an average of **~129** days.\n",
    "- They shopped an average of **~8** times.\n",
    "- We have gained an average of 2812.72 pounds from them.\n",
    "\n",
    "This is a group we need to re-gain no matter because they are the customers which frequently shopped for big amounts but long time ago. We need to remind ourselves to them. We can send them campaign mails where we offer discounts on the products similar to what they have bought before. We can also send small surveys to get feedback about their shopping experience. We can make corrections based on the survey results. We can offer them renewals or newer products as well.\n",
    "\n",
    "2. **Need Attention Segment** [R(2–3), F(2–3)]:\n",
    "- There are **198** customers in this group.\n",
    "- They have not been shopping for an average of **~50** days.\n",
    "- They shopped an average of **~2** times.\n",
    "- We have gained an average of **959.65** pounds from them.\n",
    "\n",
    "These customers have average recency and frequency scores. We can win them with small effort because they have spent good amount of money per transaction and this means the product prices is not a big issue for them. They just stopped shopping for some reason so we need to find out the reason for it and we can remind ourselves to them by offering them special discounts and free fast deliveries for limited time. This way, we can increase their shopping frequencies. We can also let them know that they are only few steps away from becoming a loyal customer where we can offer more discounts. This can encourage them to buy more frequently.\n",
    "\n",
    "3. **At Risk Segment** [R(1–2), F(3–4)]:\n",
    "- There are **589** customers at risk.\n",
    "- They have not been shopping for an average of **~149** days.\n",
    "- They shopped an average of **~3** times.\n",
    "- We have gained an average of **1215** pounds from them.\n",
    "\n",
    "These are the customers who have not shopped for a long time. They are the most important group to pay attention after the ‘can’t lose’ group because this group also shopped frequently but long time ago. Now, they are about to leave us. We can contact them by email or by phone to find out the reason why they have stopped buying from us. Seeing the average amount of their purchases, it seems the money is not the main problem for them. It could be the delivery problems or offers from the competitors. We can offer them better and more convenient delivery terms (cheaper and faster). We can offer them big discounts for their purchases over a certain amount. They might have problems with the products they have purchased so we can offer them renewals or provide them helpful manuals."
   ]
  },
  {
   "cell_type": "markdown",
   "metadata": {},
   "source": [
    "### Conclusion\n",
    "RFM analysis, which is based on customers’ past behavior, is a powerful and frequently used method for companies. Understanding it and knowing how to use it is very important for increasing the sales because it helps to understand your customers and develop personalized marketing strategies for them."
   ]
  }
 ],
 "metadata": {
  "kernelspec": {
   "display_name": "Python 3",
   "language": "python",
   "name": "python3"
  },
  "language_info": {
   "codemirror_mode": {
    "name": "ipython",
    "version": 3
   },
   "file_extension": ".py",
   "mimetype": "text/x-python",
   "name": "python",
   "nbconvert_exporter": "python",
   "pygments_lexer": "ipython3",
   "version": "3.11.2"
  }
 },
 "nbformat": 4,
 "nbformat_minor": 2
}
